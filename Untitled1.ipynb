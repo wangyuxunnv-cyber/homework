{
  "nbformat": 4,
  "nbformat_minor": 0,
  "metadata": {
    "colab": {
      "provenance": []
    },
    "kernelspec": {
      "name": "python3",
      "display_name": "Python 3"
    },
    "language_info": {
      "name": "python"
    }
  },
  "cells": [
    {
      "cell_type": "code",
      "execution_count": 1,
      "metadata": {
        "colab": {
          "base_uri": "https://localhost:8080/",
          "height": 110
        },
        "id": "3MdcrBshce3a",
        "outputId": "bda6e2d9-365f-481b-dfb3-b2c775910319"
      },
      "outputs": [
        {
          "output_type": "error",
          "ename": "SyntaxError",
          "evalue": "invalid character '（' (U+FF08) (ipython-input-2902484537.py, line 2)",
          "traceback": [
            "\u001b[0;36m  File \u001b[0;32m\"/tmp/ipython-input-2902484537.py\"\u001b[0;36m, line \u001b[0;32m2\u001b[0m\n\u001b[0;31m    print（\"01039516204\"）\u001b[0m\n\u001b[0m         ^\u001b[0m\n\u001b[0;31mSyntaxError\u001b[0m\u001b[0;31m:\u001b[0m invalid character '（' (U+FF08)\n"
          ]
        }
      ],
      "source": [
        "print(\"wangyuxun\")\n",
        "print(\"01039516204\")"
      ]
    },
    {
      "cell_type": "code",
      "source": [
        "print(\"name:wangyuxun\")\n",
        "print(\"number:01039516204\")"
      ],
      "metadata": {
        "colab": {
          "base_uri": "https://localhost:8080/"
        },
        "id": "MzmjWWFCd2AG",
        "outputId": "26647d1c-7fe8-4ae5-dbd3-618416915383"
      },
      "execution_count": 2,
      "outputs": [
        {
          "output_type": "stream",
          "name": "stdout",
          "text": [
            "name:wangyuxun\n",
            "number:01039516204\n"
          ]
        }
      ]
    }
  ]
}